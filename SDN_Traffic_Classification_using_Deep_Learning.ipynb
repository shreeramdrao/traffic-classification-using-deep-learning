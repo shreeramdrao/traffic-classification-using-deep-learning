{
  "nbformat": 4,
  "nbformat_minor": 0,
  "metadata": {
    "colab": {
      "name": "SDN_Traffic_Classification_using_Deep_Learning.ipynb",
      "provenance": [],
      "collapsed_sections": []
    },
    "kernelspec": {
      "name": "python3",
      "display_name": "Python 3"
    },
    "language_info": {
      "name": "python"
    }
  },
  "cells": [
    {
      "cell_type": "markdown",
      "metadata": {
        "id": "c3fWWObMnmRz"
      },
      "source": [
        "# **Motivation**\n",
        "####  **Accurate traffic classification** is the basis of various network activities such as network management and network security checks. Port-based approaches, deep packet inspections, and machine learning are widely used techniques for classifying and analyzing network traffic flows. However, in recent years, due to the rapid increase in the number of Internet users, the growth of Internet traffic has increased explosively. As a result, both the port-based approach and the deep packet inspection approach are inefficient due to the exponential growth of  Internet applications that generate high computational costs. The new software-defined networking paradigm  has restructured the network architecture by separating the control plane from the data plane and creating a centralized network controller that maintains a global view of the entire network.\n",
        "\n",
        "<img src=\"https://www.silicon.fr/wp-content/uploads/2012/10/3-couches-HP-SDN-integre.png\"><br>\n",
        "<span>Topology of an SDN Network</span>\n",
        "\n",
        "\n",
        "#### This project aims to ***implement a Deep Learning model for software-defined networks*** that can accurately identify a the nature of an SDN packet wether it was a normal or abnormal tarffic and therefore helping Network Administrators in detecting potential attacks.\n",
        "\n",
        "#### Using python <a href=\"https://ryu-sdn.org/\">RYU</a> and <a href=\"http://mininet.org/\">Miniet</a>, we were able to generate a random SDN traffic dataset containing more than 100,000 rows in both normal packets(1 labels) and abnormal packets (0 labels)\n",
        "\n",
        "#### We were able to reach a 98.38% accuracy on the test set with a total of 92,769 trainable parameters\n"
      ]
    },
    {
      "cell_type": "markdown",
      "metadata": {
        "id": "reXa0LACB5RE"
      },
      "source": [
        "## ***Load packages***"
      ]
    },
    {
      "cell_type": "code",
      "metadata": {
        "id": "xhT7gf5mzEIu"
      },
      "source": [
        "import pandas as pd\n",
        "from keras.models import Sequential\n",
        "from keras.layers import Dense\n",
        "import tensorflow as tf\n",
        "from tensorflow.keras import models, layers\n",
        "from keras.wrappers.scikit_learn import KerasClassifier\n",
        "from sklearn.model_selection import cross_val_score\n",
        "from sklearn.preprocessing import LabelEncoder\n",
        "from sklearn.model_selection import StratifiedKFold\n",
        "from sklearn.preprocessing import StandardScaler\n",
        "from sklearn.pipeline import Pipeline\n",
        "from pyDeepInsight import ImageTransformer, LogScaler\n",
        "from sklearn.preprocessing import MinMaxScaler\n",
        "from sklearn.model_selection import train_test_split\n",
        "from keras.callbacks import EarlyStopping\n",
        "import numpy as np\n",
        "from matplotlib import pyplot as plt\n",
        "import seaborn as sns"
      ],
      "execution_count": null,
      "outputs": []
    },
    {
      "cell_type": "markdown",
      "metadata": {
        "id": "oImZdYbMPFqW"
      },
      "source": [
        "## ***Load the SDN traffic dataset***"
      ]
    },
    {
      "cell_type": "code",
      "metadata": {
        "colab": {
          "base_uri": "https://localhost:8080/"
        },
        "id": "c5JpqZAQzTFy",
        "outputId": "9e9c246a-aa4e-4b48-ce55-f9bd2b23cabb"
      },
      "source": [
        "df = pd.read_csv('/content/drive/MyDrive/SDN/sdn_traffic_dataset.csv')\n",
        "df.shape"
      ],
      "execution_count": null,
      "outputs": [
        {
          "output_type": "execute_result",
          "data": {
            "text/plain": [
              "(104345, 23)"
            ]
          },
          "metadata": {},
          "execution_count": 2
        }
      ]
    },
    {
      "cell_type": "code",
      "metadata": {
        "colab": {
          "base_uri": "https://localhost:8080/",
          "height": 254
        },
        "id": "Y1DsgFrdzbdw",
        "outputId": "0ecfea39-c991-465b-af84-98eaf7c4c657"
      },
      "source": [
        "df.sample(6)"
      ],
      "execution_count": null,
      "outputs": [
        {
          "output_type": "execute_result",
          "data": {
            "text/html": [
              "<div>\n",
              "<style scoped>\n",
              "    .dataframe tbody tr th:only-of-type {\n",
              "        vertical-align: middle;\n",
              "    }\n",
              "\n",
              "    .dataframe tbody tr th {\n",
              "        vertical-align: top;\n",
              "    }\n",
              "\n",
              "    .dataframe thead th {\n",
              "        text-align: right;\n",
              "    }\n",
              "</style>\n",
              "<table border=\"1\" class=\"dataframe\">\n",
              "  <thead>\n",
              "    <tr style=\"text-align: right;\">\n",
              "      <th></th>\n",
              "      <th>dt</th>\n",
              "      <th>switch</th>\n",
              "      <th>src</th>\n",
              "      <th>dst</th>\n",
              "      <th>pktcount</th>\n",
              "      <th>bytecount</th>\n",
              "      <th>dur</th>\n",
              "      <th>dur_nsec</th>\n",
              "      <th>tot_dur</th>\n",
              "      <th>flows</th>\n",
              "      <th>packetins</th>\n",
              "      <th>pktperflow</th>\n",
              "      <th>byteperflow</th>\n",
              "      <th>pktrate</th>\n",
              "      <th>Pairflow</th>\n",
              "      <th>Protocol</th>\n",
              "      <th>port_no</th>\n",
              "      <th>tx_bytes</th>\n",
              "      <th>rx_bytes</th>\n",
              "      <th>tx_kbps</th>\n",
              "      <th>rx_kbps</th>\n",
              "      <th>tot_kbps</th>\n",
              "      <th>label</th>\n",
              "    </tr>\n",
              "  </thead>\n",
              "  <tbody>\n",
              "    <tr>\n",
              "      <th>22703</th>\n",
              "      <td>3369</td>\n",
              "      <td>3</td>\n",
              "      <td>10.0.0.2</td>\n",
              "      <td>10.0.0.5</td>\n",
              "      <td>97422</td>\n",
              "      <td>103851852</td>\n",
              "      <td>215</td>\n",
              "      <td>258000000</td>\n",
              "      <td>2.150000e+11</td>\n",
              "      <td>6</td>\n",
              "      <td>7916</td>\n",
              "      <td>13529</td>\n",
              "      <td>14421914</td>\n",
              "      <td>450</td>\n",
              "      <td>0</td>\n",
              "      <td>UDP</td>\n",
              "      <td>3</td>\n",
              "      <td>603594916</td>\n",
              "      <td>5312</td>\n",
              "      <td>7965</td>\n",
              "      <td>0.0</td>\n",
              "      <td>7965.0</td>\n",
              "      <td>0</td>\n",
              "    </tr>\n",
              "    <tr>\n",
              "      <th>87734</th>\n",
              "      <td>30741</td>\n",
              "      <td>3</td>\n",
              "      <td>10.0.0.14</td>\n",
              "      <td>10.0.0.10</td>\n",
              "      <td>121658</td>\n",
              "      <td>126767636</td>\n",
              "      <td>443</td>\n",
              "      <td>38000000</td>\n",
              "      <td>4.430000e+11</td>\n",
              "      <td>7</td>\n",
              "      <td>4920</td>\n",
              "      <td>7915</td>\n",
              "      <td>8247430</td>\n",
              "      <td>263</td>\n",
              "      <td>1</td>\n",
              "      <td>ICMP</td>\n",
              "      <td>3</td>\n",
              "      <td>133889911</td>\n",
              "      <td>249188001</td>\n",
              "      <td>0</td>\n",
              "      <td>2232.0</td>\n",
              "      <td>2232.0</td>\n",
              "      <td>1</td>\n",
              "    </tr>\n",
              "    <tr>\n",
              "      <th>43972</th>\n",
              "      <td>31543</td>\n",
              "      <td>6</td>\n",
              "      <td>10.0.0.12</td>\n",
              "      <td>10.0.0.1</td>\n",
              "      <td>93323</td>\n",
              "      <td>102505182</td>\n",
              "      <td>210</td>\n",
              "      <td>475000000</td>\n",
              "      <td>2.100000e+11</td>\n",
              "      <td>9</td>\n",
              "      <td>18351</td>\n",
              "      <td>13312</td>\n",
              "      <td>14606512</td>\n",
              "      <td>443</td>\n",
              "      <td>1</td>\n",
              "      <td>TCP</td>\n",
              "      <td>1</td>\n",
              "      <td>7535090</td>\n",
              "      <td>6994400</td>\n",
              "      <td>0</td>\n",
              "      <td>0.0</td>\n",
              "      <td>0.0</td>\n",
              "      <td>0</td>\n",
              "    </tr>\n",
              "    <tr>\n",
              "      <th>59580</th>\n",
              "      <td>33933</td>\n",
              "      <td>4</td>\n",
              "      <td>10.0.0.7</td>\n",
              "      <td>10.0.0.5</td>\n",
              "      <td>134</td>\n",
              "      <td>13132</td>\n",
              "      <td>138</td>\n",
              "      <td>171000000</td>\n",
              "      <td>1.380000e+11</td>\n",
              "      <td>9</td>\n",
              "      <td>3034</td>\n",
              "      <td>29</td>\n",
              "      <td>2842</td>\n",
              "      <td>0</td>\n",
              "      <td>1</td>\n",
              "      <td>ICMP</td>\n",
              "      <td>1</td>\n",
              "      <td>19143</td>\n",
              "      <td>15046</td>\n",
              "      <td>0</td>\n",
              "      <td>0.0</td>\n",
              "      <td>0.0</td>\n",
              "      <td>0</td>\n",
              "    </tr>\n",
              "    <tr>\n",
              "      <th>485</th>\n",
              "      <td>9846</td>\n",
              "      <td>1</td>\n",
              "      <td>10.0.0.1</td>\n",
              "      <td>10.0.0.7</td>\n",
              "      <td>6002</td>\n",
              "      <td>6398132</td>\n",
              "      <td>13</td>\n",
              "      <td>242000000</td>\n",
              "      <td>1.324200e+10</td>\n",
              "      <td>2</td>\n",
              "      <td>1910</td>\n",
              "      <td>0</td>\n",
              "      <td>0</td>\n",
              "      <td>0</td>\n",
              "      <td>0</td>\n",
              "      <td>UDP</td>\n",
              "      <td>1</td>\n",
              "      <td>3542</td>\n",
              "      <td>6470592</td>\n",
              "      <td>0</td>\n",
              "      <td>1725.0</td>\n",
              "      <td>1725.0</td>\n",
              "      <td>1</td>\n",
              "    </tr>\n",
              "    <tr>\n",
              "      <th>61750</th>\n",
              "      <td>29112</td>\n",
              "      <td>3</td>\n",
              "      <td>10.0.0.3</td>\n",
              "      <td>10.0.0.7</td>\n",
              "      <td>204</td>\n",
              "      <td>19992</td>\n",
              "      <td>210</td>\n",
              "      <td>127000000</td>\n",
              "      <td>2.100000e+11</td>\n",
              "      <td>6</td>\n",
              "      <td>1057</td>\n",
              "      <td>29</td>\n",
              "      <td>2842</td>\n",
              "      <td>0</td>\n",
              "      <td>1</td>\n",
              "      <td>ICMP</td>\n",
              "      <td>1</td>\n",
              "      <td>4555</td>\n",
              "      <td>1242</td>\n",
              "      <td>0</td>\n",
              "      <td>0.0</td>\n",
              "      <td>0.0</td>\n",
              "      <td>0</td>\n",
              "    </tr>\n",
              "  </tbody>\n",
              "</table>\n",
              "</div>"
            ],
            "text/plain": [
              "          dt  switch        src        dst  ...  tx_kbps  rx_kbps  tot_kbps  label\n",
              "22703   3369       3   10.0.0.2   10.0.0.5  ...     7965      0.0    7965.0      0\n",
              "87734  30741       3  10.0.0.14  10.0.0.10  ...        0   2232.0    2232.0      1\n",
              "43972  31543       6  10.0.0.12   10.0.0.1  ...        0      0.0       0.0      0\n",
              "59580  33933       4   10.0.0.7   10.0.0.5  ...        0      0.0       0.0      0\n",
              "485     9846       1   10.0.0.1   10.0.0.7  ...        0   1725.0    1725.0      1\n",
              "61750  29112       3   10.0.0.3   10.0.0.7  ...        0      0.0       0.0      0\n",
              "\n",
              "[6 rows x 23 columns]"
            ]
          },
          "metadata": {},
          "execution_count": 3
        }
      ]
    },
    {
      "cell_type": "code",
      "metadata": {
        "colab": {
          "base_uri": "https://localhost:8080/"
        },
        "id": "73M3ee2Ljoz2",
        "outputId": "75d63ffc-560d-4ea4-958a-911b3c0dde2f"
      },
      "source": [
        "df.info()"
      ],
      "execution_count": null,
      "outputs": [
        {
          "output_type": "stream",
          "name": "stdout",
          "text": [
            "<class 'pandas.core.frame.DataFrame'>\n",
            "RangeIndex: 104345 entries, 0 to 104344\n",
            "Data columns (total 23 columns):\n",
            " #   Column       Non-Null Count   Dtype  \n",
            "---  ------       --------------   -----  \n",
            " 0   dt           104345 non-null  int64  \n",
            " 1   switch       104345 non-null  int64  \n",
            " 2   src          104345 non-null  object \n",
            " 3   dst          104345 non-null  object \n",
            " 4   pktcount     104345 non-null  int64  \n",
            " 5   bytecount    104345 non-null  int64  \n",
            " 6   dur          104345 non-null  int64  \n",
            " 7   dur_nsec     104345 non-null  int64  \n",
            " 8   tot_dur      104345 non-null  float64\n",
            " 9   flows        104345 non-null  int64  \n",
            " 10  packetins    104345 non-null  int64  \n",
            " 11  pktperflow   104345 non-null  int64  \n",
            " 12  byteperflow  104345 non-null  int64  \n",
            " 13  pktrate      104345 non-null  int64  \n",
            " 14  Pairflow     104345 non-null  int64  \n",
            " 15  Protocol     104345 non-null  object \n",
            " 16  port_no      104345 non-null  int64  \n",
            " 17  tx_bytes     104345 non-null  int64  \n",
            " 18  rx_bytes     104345 non-null  int64  \n",
            " 19  tx_kbps      104345 non-null  int64  \n",
            " 20  rx_kbps      103839 non-null  float64\n",
            " 21  tot_kbps     103839 non-null  float64\n",
            " 22  label        104345 non-null  int64  \n",
            "dtypes: float64(3), int64(17), object(3)\n",
            "memory usage: 18.3+ MB\n"
          ]
        }
      ]
    },
    {
      "cell_type": "code",
      "metadata": {
        "colab": {
          "base_uri": "https://localhost:8080/"
        },
        "id": "KPhgFWeGzc5S",
        "outputId": "ed95482e-cba7-4e6e-e99f-7eead05e13c7"
      },
      "source": [
        "df.isna().sum()"
      ],
      "execution_count": null,
      "outputs": [
        {
          "output_type": "execute_result",
          "data": {
            "text/plain": [
              "dt               0\n",
              "switch           0\n",
              "src              0\n",
              "dst              0\n",
              "pktcount         0\n",
              "bytecount        0\n",
              "dur              0\n",
              "dur_nsec         0\n",
              "tot_dur          0\n",
              "flows            0\n",
              "packetins        0\n",
              "pktperflow       0\n",
              "byteperflow      0\n",
              "pktrate          0\n",
              "Pairflow         0\n",
              "Protocol         0\n",
              "port_no          0\n",
              "tx_bytes         0\n",
              "rx_bytes         0\n",
              "tx_kbps          0\n",
              "rx_kbps        506\n",
              "tot_kbps       506\n",
              "label            0\n",
              "dtype: int64"
            ]
          },
          "metadata": {},
          "execution_count": 5
        }
      ]
    },
    {
      "cell_type": "markdown",
      "metadata": {
        "id": "3Az0Mcynjtme"
      },
      "source": [
        "👉 We found two columns that contain 506 NA values : \"rx_kbps\" and \"tot_kbps\""
      ]
    },
    {
      "cell_type": "markdown",
      "metadata": {
        "id": "S-jbxd2Qkec1"
      },
      "source": [
        "## ***Basic Data Cleaning***"
      ]
    },
    {
      "cell_type": "code",
      "metadata": {
        "colab": {
          "base_uri": "https://localhost:8080/"
        },
        "id": "W_eokvnZN_xa",
        "outputId": "a7590325-e977-4912-a75c-41c1f1420baa"
      },
      "source": [
        "df.dropna(inplace=True)\n",
        "df.isna().sum()"
      ],
      "execution_count": null,
      "outputs": [
        {
          "output_type": "execute_result",
          "data": {
            "text/plain": [
              "dt             0\n",
              "switch         0\n",
              "src            0\n",
              "dst            0\n",
              "pktcount       0\n",
              "bytecount      0\n",
              "dur            0\n",
              "dur_nsec       0\n",
              "tot_dur        0\n",
              "flows          0\n",
              "packetins      0\n",
              "pktperflow     0\n",
              "byteperflow    0\n",
              "pktrate        0\n",
              "Pairflow       0\n",
              "Protocol       0\n",
              "port_no        0\n",
              "tx_bytes       0\n",
              "rx_bytes       0\n",
              "tx_kbps        0\n",
              "rx_kbps        0\n",
              "tot_kbps       0\n",
              "label          0\n",
              "dtype: int64"
            ]
          },
          "metadata": {},
          "execution_count": 6
        }
      ]
    },
    {
      "cell_type": "code",
      "metadata": {
        "colab": {
          "base_uri": "https://localhost:8080/"
        },
        "id": "tWQqW2hFOQcN",
        "outputId": "ce0f07e9-80ae-493b-92b6-0fb71c9f97bc"
      },
      "source": [
        "df.shape"
      ],
      "execution_count": null,
      "outputs": [
        {
          "output_type": "execute_result",
          "data": {
            "text/plain": [
              "(103839, 23)"
            ]
          },
          "metadata": {},
          "execution_count": 7
        }
      ]
    },
    {
      "cell_type": "markdown",
      "metadata": {
        "id": "PoUrF_lCksAd"
      },
      "source": [
        "## ***Next, let's drop all the unuseful information***\n",
        "👉 We will be droping the ID and switch number columns as well as the source and destination IP addresses and the port number as they are not relevant to the prediction"
      ]
    },
    {
      "cell_type": "code",
      "metadata": {
        "colab": {
          "base_uri": "https://localhost:8080/",
          "height": 203
        },
        "id": "lD1APyCGkjji",
        "outputId": "38b98abb-a786-40ef-8673-ee674af620e5"
      },
      "source": [
        "df.drop(['dt', 'switch', 'src', 'dst','port_no'], axis=1, inplace=True)\n",
        "df.head()"
      ],
      "execution_count": null,
      "outputs": [
        {
          "output_type": "execute_result",
          "data": {
            "text/html": [
              "<div>\n",
              "<style scoped>\n",
              "    .dataframe tbody tr th:only-of-type {\n",
              "        vertical-align: middle;\n",
              "    }\n",
              "\n",
              "    .dataframe tbody tr th {\n",
              "        vertical-align: top;\n",
              "    }\n",
              "\n",
              "    .dataframe thead th {\n",
              "        text-align: right;\n",
              "    }\n",
              "</style>\n",
              "<table border=\"1\" class=\"dataframe\">\n",
              "  <thead>\n",
              "    <tr style=\"text-align: right;\">\n",
              "      <th></th>\n",
              "      <th>pktcount</th>\n",
              "      <th>bytecount</th>\n",
              "      <th>dur</th>\n",
              "      <th>dur_nsec</th>\n",
              "      <th>tot_dur</th>\n",
              "      <th>flows</th>\n",
              "      <th>packetins</th>\n",
              "      <th>pktperflow</th>\n",
              "      <th>byteperflow</th>\n",
              "      <th>pktrate</th>\n",
              "      <th>Pairflow</th>\n",
              "      <th>Protocol</th>\n",
              "      <th>tx_bytes</th>\n",
              "      <th>rx_bytes</th>\n",
              "      <th>tx_kbps</th>\n",
              "      <th>rx_kbps</th>\n",
              "      <th>tot_kbps</th>\n",
              "      <th>label</th>\n",
              "    </tr>\n",
              "  </thead>\n",
              "  <tbody>\n",
              "    <tr>\n",
              "      <th>0</th>\n",
              "      <td>45304</td>\n",
              "      <td>48294064</td>\n",
              "      <td>100</td>\n",
              "      <td>716000000</td>\n",
              "      <td>1.010000e+11</td>\n",
              "      <td>3</td>\n",
              "      <td>1943</td>\n",
              "      <td>13535</td>\n",
              "      <td>14428310</td>\n",
              "      <td>451</td>\n",
              "      <td>0</td>\n",
              "      <td>UDP</td>\n",
              "      <td>143928631</td>\n",
              "      <td>3917</td>\n",
              "      <td>0</td>\n",
              "      <td>0.0</td>\n",
              "      <td>0.0</td>\n",
              "      <td>0</td>\n",
              "    </tr>\n",
              "    <tr>\n",
              "      <th>1</th>\n",
              "      <td>126395</td>\n",
              "      <td>134737070</td>\n",
              "      <td>280</td>\n",
              "      <td>734000000</td>\n",
              "      <td>2.810000e+11</td>\n",
              "      <td>2</td>\n",
              "      <td>1943</td>\n",
              "      <td>13531</td>\n",
              "      <td>14424046</td>\n",
              "      <td>451</td>\n",
              "      <td>0</td>\n",
              "      <td>UDP</td>\n",
              "      <td>3842</td>\n",
              "      <td>3520</td>\n",
              "      <td>0</td>\n",
              "      <td>0.0</td>\n",
              "      <td>0.0</td>\n",
              "      <td>0</td>\n",
              "    </tr>\n",
              "    <tr>\n",
              "      <th>2</th>\n",
              "      <td>90333</td>\n",
              "      <td>96294978</td>\n",
              "      <td>200</td>\n",
              "      <td>744000000</td>\n",
              "      <td>2.010000e+11</td>\n",
              "      <td>3</td>\n",
              "      <td>1943</td>\n",
              "      <td>13534</td>\n",
              "      <td>14427244</td>\n",
              "      <td>451</td>\n",
              "      <td>0</td>\n",
              "      <td>UDP</td>\n",
              "      <td>3795</td>\n",
              "      <td>1242</td>\n",
              "      <td>0</td>\n",
              "      <td>0.0</td>\n",
              "      <td>0.0</td>\n",
              "      <td>0</td>\n",
              "    </tr>\n",
              "    <tr>\n",
              "      <th>3</th>\n",
              "      <td>90333</td>\n",
              "      <td>96294978</td>\n",
              "      <td>200</td>\n",
              "      <td>744000000</td>\n",
              "      <td>2.010000e+11</td>\n",
              "      <td>3</td>\n",
              "      <td>1943</td>\n",
              "      <td>13534</td>\n",
              "      <td>14427244</td>\n",
              "      <td>451</td>\n",
              "      <td>0</td>\n",
              "      <td>UDP</td>\n",
              "      <td>3688</td>\n",
              "      <td>1492</td>\n",
              "      <td>0</td>\n",
              "      <td>0.0</td>\n",
              "      <td>0.0</td>\n",
              "      <td>0</td>\n",
              "    </tr>\n",
              "    <tr>\n",
              "      <th>4</th>\n",
              "      <td>90333</td>\n",
              "      <td>96294978</td>\n",
              "      <td>200</td>\n",
              "      <td>744000000</td>\n",
              "      <td>2.010000e+11</td>\n",
              "      <td>3</td>\n",
              "      <td>1943</td>\n",
              "      <td>13534</td>\n",
              "      <td>14427244</td>\n",
              "      <td>451</td>\n",
              "      <td>0</td>\n",
              "      <td>UDP</td>\n",
              "      <td>3413</td>\n",
              "      <td>3665</td>\n",
              "      <td>0</td>\n",
              "      <td>0.0</td>\n",
              "      <td>0.0</td>\n",
              "      <td>0</td>\n",
              "    </tr>\n",
              "  </tbody>\n",
              "</table>\n",
              "</div>"
            ],
            "text/plain": [
              "   pktcount  bytecount  dur   dur_nsec  ...  tx_kbps  rx_kbps  tot_kbps  label\n",
              "0     45304   48294064  100  716000000  ...        0      0.0       0.0      0\n",
              "1    126395  134737070  280  734000000  ...        0      0.0       0.0      0\n",
              "2     90333   96294978  200  744000000  ...        0      0.0       0.0      0\n",
              "3     90333   96294978  200  744000000  ...        0      0.0       0.0      0\n",
              "4     90333   96294978  200  744000000  ...        0      0.0       0.0      0\n",
              "\n",
              "[5 rows x 18 columns]"
            ]
          },
          "metadata": {},
          "execution_count": 8
        }
      ]
    },
    {
      "cell_type": "code",
      "metadata": {
        "colab": {
          "base_uri": "https://localhost:8080/"
        },
        "id": "owDSGyd3knZN",
        "outputId": "90f3f369-1c5e-429f-b2ba-a809ade4655f"
      },
      "source": [
        "df.shape"
      ],
      "execution_count": null,
      "outputs": [
        {
          "output_type": "execute_result",
          "data": {
            "text/plain": [
              "(103839, 18)"
            ]
          },
          "metadata": {},
          "execution_count": 9
        }
      ]
    },
    {
      "cell_type": "markdown",
      "metadata": {
        "id": "6oMcqXrxl-u0"
      },
      "source": [
        "## ***Next, we will be creating dummy variables for the Protocol column to make our algorithm more efficient***"
      ]
    },
    {
      "cell_type": "code",
      "metadata": {
        "colab": {
          "base_uri": "https://localhost:8080/"
        },
        "id": "GOUYI0KZYVQU",
        "outputId": "5b7778e4-5613-4ddf-c834-84cc64227a64"
      },
      "source": [
        "df.Protocol.unique()"
      ],
      "execution_count": null,
      "outputs": [
        {
          "output_type": "execute_result",
          "data": {
            "text/plain": [
              "array(['UDP', 'TCP', 'ICMP'], dtype=object)"
            ]
          },
          "metadata": {},
          "execution_count": 10
        }
      ]
    },
    {
      "cell_type": "code",
      "metadata": {
        "id": "av3yRSBQYXyy"
      },
      "source": [
        "df = pd.get_dummies(df)"
      ],
      "execution_count": null,
      "outputs": []
    },
    {
      "cell_type": "code",
      "metadata": {
        "colab": {
          "base_uri": "https://localhost:8080/",
          "height": 223
        },
        "id": "_mzd6Xy1mYiR",
        "outputId": "e0037b15-8888-4f67-f4d2-59eb91be15d3"
      },
      "source": [
        "df.head()"
      ],
      "execution_count": null,
      "outputs": [
        {
          "output_type": "execute_result",
          "data": {
            "text/html": [
              "<div>\n",
              "<style scoped>\n",
              "    .dataframe tbody tr th:only-of-type {\n",
              "        vertical-align: middle;\n",
              "    }\n",
              "\n",
              "    .dataframe tbody tr th {\n",
              "        vertical-align: top;\n",
              "    }\n",
              "\n",
              "    .dataframe thead th {\n",
              "        text-align: right;\n",
              "    }\n",
              "</style>\n",
              "<table border=\"1\" class=\"dataframe\">\n",
              "  <thead>\n",
              "    <tr style=\"text-align: right;\">\n",
              "      <th></th>\n",
              "      <th>pktcount</th>\n",
              "      <th>bytecount</th>\n",
              "      <th>dur</th>\n",
              "      <th>dur_nsec</th>\n",
              "      <th>tot_dur</th>\n",
              "      <th>flows</th>\n",
              "      <th>packetins</th>\n",
              "      <th>pktperflow</th>\n",
              "      <th>byteperflow</th>\n",
              "      <th>pktrate</th>\n",
              "      <th>Pairflow</th>\n",
              "      <th>tx_bytes</th>\n",
              "      <th>rx_bytes</th>\n",
              "      <th>tx_kbps</th>\n",
              "      <th>rx_kbps</th>\n",
              "      <th>tot_kbps</th>\n",
              "      <th>label</th>\n",
              "      <th>Protocol_ICMP</th>\n",
              "      <th>Protocol_TCP</th>\n",
              "      <th>Protocol_UDP</th>\n",
              "    </tr>\n",
              "  </thead>\n",
              "  <tbody>\n",
              "    <tr>\n",
              "      <th>0</th>\n",
              "      <td>45304</td>\n",
              "      <td>48294064</td>\n",
              "      <td>100</td>\n",
              "      <td>716000000</td>\n",
              "      <td>1.010000e+11</td>\n",
              "      <td>3</td>\n",
              "      <td>1943</td>\n",
              "      <td>13535</td>\n",
              "      <td>14428310</td>\n",
              "      <td>451</td>\n",
              "      <td>0</td>\n",
              "      <td>143928631</td>\n",
              "      <td>3917</td>\n",
              "      <td>0</td>\n",
              "      <td>0.0</td>\n",
              "      <td>0.0</td>\n",
              "      <td>0</td>\n",
              "      <td>0</td>\n",
              "      <td>0</td>\n",
              "      <td>1</td>\n",
              "    </tr>\n",
              "    <tr>\n",
              "      <th>1</th>\n",
              "      <td>126395</td>\n",
              "      <td>134737070</td>\n",
              "      <td>280</td>\n",
              "      <td>734000000</td>\n",
              "      <td>2.810000e+11</td>\n",
              "      <td>2</td>\n",
              "      <td>1943</td>\n",
              "      <td>13531</td>\n",
              "      <td>14424046</td>\n",
              "      <td>451</td>\n",
              "      <td>0</td>\n",
              "      <td>3842</td>\n",
              "      <td>3520</td>\n",
              "      <td>0</td>\n",
              "      <td>0.0</td>\n",
              "      <td>0.0</td>\n",
              "      <td>0</td>\n",
              "      <td>0</td>\n",
              "      <td>0</td>\n",
              "      <td>1</td>\n",
              "    </tr>\n",
              "    <tr>\n",
              "      <th>2</th>\n",
              "      <td>90333</td>\n",
              "      <td>96294978</td>\n",
              "      <td>200</td>\n",
              "      <td>744000000</td>\n",
              "      <td>2.010000e+11</td>\n",
              "      <td>3</td>\n",
              "      <td>1943</td>\n",
              "      <td>13534</td>\n",
              "      <td>14427244</td>\n",
              "      <td>451</td>\n",
              "      <td>0</td>\n",
              "      <td>3795</td>\n",
              "      <td>1242</td>\n",
              "      <td>0</td>\n",
              "      <td>0.0</td>\n",
              "      <td>0.0</td>\n",
              "      <td>0</td>\n",
              "      <td>0</td>\n",
              "      <td>0</td>\n",
              "      <td>1</td>\n",
              "    </tr>\n",
              "    <tr>\n",
              "      <th>3</th>\n",
              "      <td>90333</td>\n",
              "      <td>96294978</td>\n",
              "      <td>200</td>\n",
              "      <td>744000000</td>\n",
              "      <td>2.010000e+11</td>\n",
              "      <td>3</td>\n",
              "      <td>1943</td>\n",
              "      <td>13534</td>\n",
              "      <td>14427244</td>\n",
              "      <td>451</td>\n",
              "      <td>0</td>\n",
              "      <td>3688</td>\n",
              "      <td>1492</td>\n",
              "      <td>0</td>\n",
              "      <td>0.0</td>\n",
              "      <td>0.0</td>\n",
              "      <td>0</td>\n",
              "      <td>0</td>\n",
              "      <td>0</td>\n",
              "      <td>1</td>\n",
              "    </tr>\n",
              "    <tr>\n",
              "      <th>4</th>\n",
              "      <td>90333</td>\n",
              "      <td>96294978</td>\n",
              "      <td>200</td>\n",
              "      <td>744000000</td>\n",
              "      <td>2.010000e+11</td>\n",
              "      <td>3</td>\n",
              "      <td>1943</td>\n",
              "      <td>13534</td>\n",
              "      <td>14427244</td>\n",
              "      <td>451</td>\n",
              "      <td>0</td>\n",
              "      <td>3413</td>\n",
              "      <td>3665</td>\n",
              "      <td>0</td>\n",
              "      <td>0.0</td>\n",
              "      <td>0.0</td>\n",
              "      <td>0</td>\n",
              "      <td>0</td>\n",
              "      <td>0</td>\n",
              "      <td>1</td>\n",
              "    </tr>\n",
              "  </tbody>\n",
              "</table>\n",
              "</div>"
            ],
            "text/plain": [
              "   pktcount  bytecount  dur  ...  Protocol_ICMP  Protocol_TCP  Protocol_UDP\n",
              "0     45304   48294064  100  ...              0             0             1\n",
              "1    126395  134737070  280  ...              0             0             1\n",
              "2     90333   96294978  200  ...              0             0             1\n",
              "3     90333   96294978  200  ...              0             0             1\n",
              "4     90333   96294978  200  ...              0             0             1\n",
              "\n",
              "[5 rows x 20 columns]"
            ]
          },
          "metadata": {},
          "execution_count": 12
        }
      ]
    },
    {
      "cell_type": "markdown",
      "metadata": {
        "id": "dHK4ET4-rSm_"
      },
      "source": [
        "## ***Next, we will apply a MinMax Scaler to standardize our dataset and make all values in range (0,1)***"
      ]
    },
    {
      "cell_type": "code",
      "metadata": {
        "id": "5vwfBAtBrGUq"
      },
      "source": [
        "scaler = MinMaxScaler()"
      ],
      "execution_count": null,
      "outputs": []
    },
    {
      "cell_type": "code",
      "metadata": {
        "colab": {
          "base_uri": "https://localhost:8080/"
        },
        "id": "BEp5k2PJrl4p",
        "outputId": "56be12db-2f5a-4523-80c6-c2c89d7c76da"
      },
      "source": [
        "df_std= scaler.fit_transform(df)\n",
        "df_std"
      ],
      "execution_count": null,
      "outputs": [
        {
          "output_type": "execute_result",
          "data": {
            "text/plain": [
              "array([[1.74242133e-01, 3.28245224e-01, 5.31632111e-02, ...,\n",
              "        0.00000000e+00, 0.00000000e+00, 1.00000000e+00],\n",
              "       [4.86123397e-01, 9.15781280e-01, 1.48856991e-01, ...,\n",
              "        0.00000000e+00, 0.00000000e+00, 1.00000000e+00],\n",
              "       [3.47426598e-01, 6.54497966e-01, 1.06326422e-01, ...,\n",
              "        0.00000000e+00, 0.00000000e+00, 1.00000000e+00],\n",
              "       ...,\n",
              "       [1.19228018e-04, 2.06486866e-05, 1.64805954e-02, ...,\n",
              "        1.00000000e+00, 0.00000000e+00, 0.00000000e+00],\n",
              "       [1.19228018e-04, 2.06486866e-05, 1.64805954e-02, ...,\n",
              "        1.00000000e+00, 0.00000000e+00, 0.00000000e+00],\n",
              "       [1.19228018e-04, 2.06486866e-05, 1.64805954e-02, ...,\n",
              "        1.00000000e+00, 0.00000000e+00, 0.00000000e+00]])"
            ]
          },
          "metadata": {},
          "execution_count": 14
        }
      ]
    },
    {
      "cell_type": "code",
      "metadata": {
        "colab": {
          "base_uri": "https://localhost:8080/"
        },
        "id": "K2vy6rJNsInF",
        "outputId": "af1f9150-c550-4ca7-9974-27b3a710a7d7"
      },
      "source": [
        "df_std.shape"
      ],
      "execution_count": null,
      "outputs": [
        {
          "output_type": "execute_result",
          "data": {
            "text/plain": [
              "(103839, 20)"
            ]
          },
          "metadata": {},
          "execution_count": 15
        }
      ]
    },
    {
      "cell_type": "code",
      "metadata": {
        "id": "O-F9AaODOR5h"
      },
      "source": [
        "new_df = pd.DataFrame(df_std, columns=df.columns)"
      ],
      "execution_count": null,
      "outputs": []
    },
    {
      "cell_type": "code",
      "metadata": {
        "colab": {
          "base_uri": "https://localhost:8080/",
          "height": 307
        },
        "id": "vnQpLiN2sgMj",
        "outputId": "3a86cb75-b528-46d2-b508-b7c0e55443dd"
      },
      "source": [
        "new_df.head()"
      ],
      "execution_count": null,
      "outputs": [
        {
          "output_type": "execute_result",
          "data": {
            "text/html": [
              "<div>\n",
              "<style scoped>\n",
              "    .dataframe tbody tr th:only-of-type {\n",
              "        vertical-align: middle;\n",
              "    }\n",
              "\n",
              "    .dataframe tbody tr th {\n",
              "        vertical-align: top;\n",
              "    }\n",
              "\n",
              "    .dataframe thead th {\n",
              "        text-align: right;\n",
              "    }\n",
              "</style>\n",
              "<table border=\"1\" class=\"dataframe\">\n",
              "  <thead>\n",
              "    <tr style=\"text-align: right;\">\n",
              "      <th></th>\n",
              "      <th>pktcount</th>\n",
              "      <th>bytecount</th>\n",
              "      <th>dur</th>\n",
              "      <th>dur_nsec</th>\n",
              "      <th>tot_dur</th>\n",
              "      <th>flows</th>\n",
              "      <th>packetins</th>\n",
              "      <th>pktperflow</th>\n",
              "      <th>byteperflow</th>\n",
              "      <th>pktrate</th>\n",
              "      <th>Pairflow</th>\n",
              "      <th>tx_bytes</th>\n",
              "      <th>rx_bytes</th>\n",
              "      <th>tx_kbps</th>\n",
              "      <th>rx_kbps</th>\n",
              "      <th>tot_kbps</th>\n",
              "      <th>label</th>\n",
              "      <th>Protocol_ICMP</th>\n",
              "      <th>Protocol_TCP</th>\n",
              "      <th>Protocol_UDP</th>\n",
              "    </tr>\n",
              "  </thead>\n",
              "  <tbody>\n",
              "    <tr>\n",
              "      <th>0</th>\n",
              "      <td>0.174242</td>\n",
              "      <td>0.328245</td>\n",
              "      <td>0.053163</td>\n",
              "      <td>0.716717</td>\n",
              "      <td>0.053723</td>\n",
              "      <td>0.066667</td>\n",
              "      <td>0.076883</td>\n",
              "      <td>0.962331</td>\n",
              "      <td>0.996744</td>\n",
              "      <td>0.96243</td>\n",
              "      <td>0.0</td>\n",
              "      <td>1.133295e-01</td>\n",
              "      <td>3.090061e-06</td>\n",
              "      <td>0.0</td>\n",
              "      <td>0.0</td>\n",
              "      <td>0.0</td>\n",
              "      <td>0.0</td>\n",
              "      <td>0.0</td>\n",
              "      <td>0.0</td>\n",
              "      <td>1.0</td>\n",
              "    </tr>\n",
              "    <tr>\n",
              "      <th>1</th>\n",
              "      <td>0.486123</td>\n",
              "      <td>0.915781</td>\n",
              "      <td>0.148857</td>\n",
              "      <td>0.734735</td>\n",
              "      <td>0.149468</td>\n",
              "      <td>0.000000</td>\n",
              "      <td>0.076883</td>\n",
              "      <td>0.962304</td>\n",
              "      <td>0.996717</td>\n",
              "      <td>0.96243</td>\n",
              "      <td>0.0</td>\n",
              "      <td>1.035450e-06</td>\n",
              "      <td>2.689292e-06</td>\n",
              "      <td>0.0</td>\n",
              "      <td>0.0</td>\n",
              "      <td>0.0</td>\n",
              "      <td>0.0</td>\n",
              "      <td>0.0</td>\n",
              "      <td>0.0</td>\n",
              "      <td>1.0</td>\n",
              "    </tr>\n",
              "    <tr>\n",
              "      <th>2</th>\n",
              "      <td>0.347427</td>\n",
              "      <td>0.654498</td>\n",
              "      <td>0.106326</td>\n",
              "      <td>0.744745</td>\n",
              "      <td>0.106915</td>\n",
              "      <td>0.066667</td>\n",
              "      <td>0.076883</td>\n",
              "      <td>0.962324</td>\n",
              "      <td>0.996737</td>\n",
              "      <td>0.96243</td>\n",
              "      <td>0.0</td>\n",
              "      <td>9.984414e-07</td>\n",
              "      <td>3.896647e-07</td>\n",
              "      <td>0.0</td>\n",
              "      <td>0.0</td>\n",
              "      <td>0.0</td>\n",
              "      <td>0.0</td>\n",
              "      <td>0.0</td>\n",
              "      <td>0.0</td>\n",
              "      <td>1.0</td>\n",
              "    </tr>\n",
              "    <tr>\n",
              "      <th>3</th>\n",
              "      <td>0.347427</td>\n",
              "      <td>0.654498</td>\n",
              "      <td>0.106326</td>\n",
              "      <td>0.744745</td>\n",
              "      <td>0.106915</td>\n",
              "      <td>0.066667</td>\n",
              "      <td>0.076883</td>\n",
              "      <td>0.962324</td>\n",
              "      <td>0.996737</td>\n",
              "      <td>0.96243</td>\n",
              "      <td>0.0</td>\n",
              "      <td>9.141880e-07</td>\n",
              "      <td>6.420382e-07</td>\n",
              "      <td>0.0</td>\n",
              "      <td>0.0</td>\n",
              "      <td>0.0</td>\n",
              "      <td>0.0</td>\n",
              "      <td>0.0</td>\n",
              "      <td>0.0</td>\n",
              "      <td>1.0</td>\n",
              "    </tr>\n",
              "    <tr>\n",
              "      <th>4</th>\n",
              "      <td>0.347427</td>\n",
              "      <td>0.654498</td>\n",
              "      <td>0.106326</td>\n",
              "      <td>0.744745</td>\n",
              "      <td>0.106915</td>\n",
              "      <td>0.066667</td>\n",
              "      <td>0.076883</td>\n",
              "      <td>0.962324</td>\n",
              "      <td>0.996737</td>\n",
              "      <td>0.96243</td>\n",
              "      <td>0.0</td>\n",
              "      <td>6.976491e-07</td>\n",
              "      <td>2.835669e-06</td>\n",
              "      <td>0.0</td>\n",
              "      <td>0.0</td>\n",
              "      <td>0.0</td>\n",
              "      <td>0.0</td>\n",
              "      <td>0.0</td>\n",
              "      <td>0.0</td>\n",
              "      <td>1.0</td>\n",
              "    </tr>\n",
              "  </tbody>\n",
              "</table>\n",
              "</div>"
            ],
            "text/plain": [
              "   pktcount  bytecount       dur  ...  Protocol_ICMP  Protocol_TCP  Protocol_UDP\n",
              "0  0.174242   0.328245  0.053163  ...            0.0           0.0           1.0\n",
              "1  0.486123   0.915781  0.148857  ...            0.0           0.0           1.0\n",
              "2  0.347427   0.654498  0.106326  ...            0.0           0.0           1.0\n",
              "3  0.347427   0.654498  0.106326  ...            0.0           0.0           1.0\n",
              "4  0.347427   0.654498  0.106326  ...            0.0           0.0           1.0\n",
              "\n",
              "[5 rows x 20 columns]"
            ]
          },
          "metadata": {},
          "execution_count": 17
        }
      ]
    },
    {
      "cell_type": "code",
      "metadata": {
        "colab": {
          "base_uri": "https://localhost:8080/"
        },
        "id": "PjiwKNa-shnB",
        "outputId": "2e1f72b4-8c77-4e23-cab1-380a78e9f943"
      },
      "source": [
        "new_df.shape"
      ],
      "execution_count": null,
      "outputs": [
        {
          "output_type": "execute_result",
          "data": {
            "text/plain": [
              "(103839, 20)"
            ]
          },
          "metadata": {},
          "execution_count": 18
        }
      ]
    },
    {
      "cell_type": "code",
      "metadata": {
        "id": "kRHkSDYLImHN"
      },
      "source": [
        "new_df['class'] = new_df['label']\n",
        "del new_df['label']"
      ],
      "execution_count": null,
      "outputs": []
    },
    {
      "cell_type": "code",
      "metadata": {
        "colab": {
          "base_uri": "https://localhost:8080/"
        },
        "id": "AU0hRXR6IwFG",
        "outputId": "06e1bde3-9592-4baa-b776-60720ae91ef0"
      },
      "source": [
        "new_df.shape"
      ],
      "execution_count": null,
      "outputs": [
        {
          "output_type": "execute_result",
          "data": {
            "text/plain": [
              "(103839, 20)"
            ]
          },
          "metadata": {},
          "execution_count": 38
        }
      ]
    },
    {
      "cell_type": "code",
      "metadata": {
        "colab": {
          "base_uri": "https://localhost:8080/",
          "height": 307
        },
        "id": "ZouYRP-qIx7F",
        "outputId": "c74d5d83-6c6f-4e20-d2a2-8c2f57d153f2"
      },
      "source": [
        "new_df.head()"
      ],
      "execution_count": null,
      "outputs": [
        {
          "output_type": "execute_result",
          "data": {
            "text/html": [
              "<div>\n",
              "<style scoped>\n",
              "    .dataframe tbody tr th:only-of-type {\n",
              "        vertical-align: middle;\n",
              "    }\n",
              "\n",
              "    .dataframe tbody tr th {\n",
              "        vertical-align: top;\n",
              "    }\n",
              "\n",
              "    .dataframe thead th {\n",
              "        text-align: right;\n",
              "    }\n",
              "</style>\n",
              "<table border=\"1\" class=\"dataframe\">\n",
              "  <thead>\n",
              "    <tr style=\"text-align: right;\">\n",
              "      <th></th>\n",
              "      <th>pktcount</th>\n",
              "      <th>bytecount</th>\n",
              "      <th>dur</th>\n",
              "      <th>dur_nsec</th>\n",
              "      <th>tot_dur</th>\n",
              "      <th>flows</th>\n",
              "      <th>packetins</th>\n",
              "      <th>pktperflow</th>\n",
              "      <th>byteperflow</th>\n",
              "      <th>pktrate</th>\n",
              "      <th>Pairflow</th>\n",
              "      <th>tx_bytes</th>\n",
              "      <th>rx_bytes</th>\n",
              "      <th>tx_kbps</th>\n",
              "      <th>rx_kbps</th>\n",
              "      <th>tot_kbps</th>\n",
              "      <th>Protocol_ICMP</th>\n",
              "      <th>Protocol_TCP</th>\n",
              "      <th>Protocol_UDP</th>\n",
              "      <th>class</th>\n",
              "    </tr>\n",
              "  </thead>\n",
              "  <tbody>\n",
              "    <tr>\n",
              "      <th>0</th>\n",
              "      <td>0.174242</td>\n",
              "      <td>0.328245</td>\n",
              "      <td>0.053163</td>\n",
              "      <td>0.716717</td>\n",
              "      <td>0.053723</td>\n",
              "      <td>0.066667</td>\n",
              "      <td>0.076883</td>\n",
              "      <td>0.962331</td>\n",
              "      <td>0.996744</td>\n",
              "      <td>0.96243</td>\n",
              "      <td>0.0</td>\n",
              "      <td>1.133295e-01</td>\n",
              "      <td>3.090061e-06</td>\n",
              "      <td>0.0</td>\n",
              "      <td>0.0</td>\n",
              "      <td>0.0</td>\n",
              "      <td>0.0</td>\n",
              "      <td>0.0</td>\n",
              "      <td>1.0</td>\n",
              "      <td>0.0</td>\n",
              "    </tr>\n",
              "    <tr>\n",
              "      <th>1</th>\n",
              "      <td>0.486123</td>\n",
              "      <td>0.915781</td>\n",
              "      <td>0.148857</td>\n",
              "      <td>0.734735</td>\n",
              "      <td>0.149468</td>\n",
              "      <td>0.000000</td>\n",
              "      <td>0.076883</td>\n",
              "      <td>0.962304</td>\n",
              "      <td>0.996717</td>\n",
              "      <td>0.96243</td>\n",
              "      <td>0.0</td>\n",
              "      <td>1.035450e-06</td>\n",
              "      <td>2.689292e-06</td>\n",
              "      <td>0.0</td>\n",
              "      <td>0.0</td>\n",
              "      <td>0.0</td>\n",
              "      <td>0.0</td>\n",
              "      <td>0.0</td>\n",
              "      <td>1.0</td>\n",
              "      <td>0.0</td>\n",
              "    </tr>\n",
              "    <tr>\n",
              "      <th>2</th>\n",
              "      <td>0.347427</td>\n",
              "      <td>0.654498</td>\n",
              "      <td>0.106326</td>\n",
              "      <td>0.744745</td>\n",
              "      <td>0.106915</td>\n",
              "      <td>0.066667</td>\n",
              "      <td>0.076883</td>\n",
              "      <td>0.962324</td>\n",
              "      <td>0.996737</td>\n",
              "      <td>0.96243</td>\n",
              "      <td>0.0</td>\n",
              "      <td>9.984414e-07</td>\n",
              "      <td>3.896647e-07</td>\n",
              "      <td>0.0</td>\n",
              "      <td>0.0</td>\n",
              "      <td>0.0</td>\n",
              "      <td>0.0</td>\n",
              "      <td>0.0</td>\n",
              "      <td>1.0</td>\n",
              "      <td>0.0</td>\n",
              "    </tr>\n",
              "    <tr>\n",
              "      <th>3</th>\n",
              "      <td>0.347427</td>\n",
              "      <td>0.654498</td>\n",
              "      <td>0.106326</td>\n",
              "      <td>0.744745</td>\n",
              "      <td>0.106915</td>\n",
              "      <td>0.066667</td>\n",
              "      <td>0.076883</td>\n",
              "      <td>0.962324</td>\n",
              "      <td>0.996737</td>\n",
              "      <td>0.96243</td>\n",
              "      <td>0.0</td>\n",
              "      <td>9.141880e-07</td>\n",
              "      <td>6.420382e-07</td>\n",
              "      <td>0.0</td>\n",
              "      <td>0.0</td>\n",
              "      <td>0.0</td>\n",
              "      <td>0.0</td>\n",
              "      <td>0.0</td>\n",
              "      <td>1.0</td>\n",
              "      <td>0.0</td>\n",
              "    </tr>\n",
              "    <tr>\n",
              "      <th>4</th>\n",
              "      <td>0.347427</td>\n",
              "      <td>0.654498</td>\n",
              "      <td>0.106326</td>\n",
              "      <td>0.744745</td>\n",
              "      <td>0.106915</td>\n",
              "      <td>0.066667</td>\n",
              "      <td>0.076883</td>\n",
              "      <td>0.962324</td>\n",
              "      <td>0.996737</td>\n",
              "      <td>0.96243</td>\n",
              "      <td>0.0</td>\n",
              "      <td>6.976491e-07</td>\n",
              "      <td>2.835669e-06</td>\n",
              "      <td>0.0</td>\n",
              "      <td>0.0</td>\n",
              "      <td>0.0</td>\n",
              "      <td>0.0</td>\n",
              "      <td>0.0</td>\n",
              "      <td>1.0</td>\n",
              "      <td>0.0</td>\n",
              "    </tr>\n",
              "  </tbody>\n",
              "</table>\n",
              "</div>"
            ],
            "text/plain": [
              "   pktcount  bytecount       dur  ...  Protocol_TCP  Protocol_UDP  class\n",
              "0  0.174242   0.328245  0.053163  ...           0.0           1.0    0.0\n",
              "1  0.486123   0.915781  0.148857  ...           0.0           1.0    0.0\n",
              "2  0.347427   0.654498  0.106326  ...           0.0           1.0    0.0\n",
              "3  0.347427   0.654498  0.106326  ...           0.0           1.0    0.0\n",
              "4  0.347427   0.654498  0.106326  ...           0.0           1.0    0.0\n",
              "\n",
              "[5 rows x 20 columns]"
            ]
          },
          "metadata": {},
          "execution_count": 39
        }
      ]
    },
    {
      "cell_type": "markdown",
      "metadata": {
        "id": "1b310wfEssQD"
      },
      "source": [
        "## ***Next, we will be spliting our dataset into input X and output Y variables***"
      ]
    },
    {
      "cell_type": "code",
      "metadata": {
        "id": "Y6DtuXn1ssQE"
      },
      "source": [
        "X = new_df.iloc[:,1:19].astype(float)\n",
        "y = new_df.iloc[:,-1]"
      ],
      "execution_count": null,
      "outputs": []
    },
    {
      "cell_type": "code",
      "metadata": {
        "colab": {
          "base_uri": "https://localhost:8080/"
        },
        "id": "dJEE35khs1y1",
        "outputId": "4701e4e9-05f2-473e-e12d-17f4f391c742"
      },
      "source": [
        "X.shape"
      ],
      "execution_count": null,
      "outputs": [
        {
          "output_type": "execute_result",
          "data": {
            "text/plain": [
              "(103839, 18)"
            ]
          },
          "metadata": {},
          "execution_count": 41
        }
      ]
    },
    {
      "cell_type": "code",
      "metadata": {
        "colab": {
          "base_uri": "https://localhost:8080/"
        },
        "id": "jtaZF-jws4FW",
        "outputId": "4ecffdb7-40cb-45d1-cb23-2a45c34160a8"
      },
      "source": [
        "y.shape"
      ],
      "execution_count": null,
      "outputs": [
        {
          "output_type": "execute_result",
          "data": {
            "text/plain": [
              "(103839,)"
            ]
          },
          "metadata": {},
          "execution_count": 42
        }
      ]
    },
    {
      "cell_type": "markdown",
      "metadata": {
        "id": "YGBx7fYFLB-M"
      },
      "source": [
        "## ***Next, we will be spliting our dataset into a training set (80%) and a test set (20%)***"
      ]
    },
    {
      "cell_type": "code",
      "metadata": {
        "id": "yUs34Cn03QTu"
      },
      "source": [
        " X_train, X_test, y_train, y_test = train_test_split(X, y, test_size=0.2, random_state=42)"
      ],
      "execution_count": null,
      "outputs": []
    },
    {
      "cell_type": "markdown",
      "metadata": {
        "id": "qfDGeMzwk6vr"
      },
      "source": [
        "## ***First, we started by defining our Neural Network model***"
      ]
    },
    {
      "cell_type": "code",
      "metadata": {
        "id": "-EvcErJa73ei"
      },
      "source": [
        "model = Sequential()\n",
        "model.add(Dense(32, input_shape=(18,), activation='relu'))\n",
        "model.add(Dense(512, activation='relu'))\n",
        "model.add(BatchNormalization())\n",
        "model.add(Dropout(0.5))\n",
        "model.add(Dense(128, activation='relu'))\n",
        "model.add(BatchNormalization())\n",
        "model.add(Dropout(0.5))\n",
        "model.add(Dense(64, activation='relu'))\n",
        "model.add(Dense(1, activation='sigmoid'))"
      ],
      "execution_count": null,
      "outputs": []
    },
    {
      "cell_type": "code",
      "metadata": {
        "id": "QAjreuPv0_az"
      },
      "source": [
        "# from tensorflow.keras.models import Sequential\n",
        "# from tensorflow.keras.layers import Dense, BatchNormalization, Dropout, Activation\n",
        "\n",
        "# model = Sequential([\n",
        "#     Dense(2048, input_shape=(19,), activation='relu'),\n",
        "#     BatchNormalization(),\n",
        "#     Activation('relu'),\n",
        "#     Dropout(0.5),\n",
        "#     Dense(1024, activation='relu'),\n",
        "#     BatchNormalization(),\n",
        "#     Activation('relu'),\n",
        "#     Dense(1024, activation='relu'),\n",
        "#     BatchNormalization(),\n",
        "#     Activation('relu'),\n",
        "#     Dropout(0.5),\n",
        "#     Dense(512, activation='relu'),\n",
        "#     BatchNormalization(),\n",
        "#     Activation('relu'),\n",
        "#     Dense(1, activation='softmax')\n",
        "# ])"
      ],
      "execution_count": null,
      "outputs": []
    },
    {
      "cell_type": "code",
      "metadata": {
        "colab": {
          "base_uri": "https://localhost:8080/"
        },
        "id": "8kiSAL0yJmSd",
        "outputId": "ec13d62d-ccc9-4103-acf2-9f588b927f5f"
      },
      "source": [
        "model.summary()"
      ],
      "execution_count": null,
      "outputs": [
        {
          "output_type": "stream",
          "name": "stdout",
          "text": [
            "Model: \"sequential_2\"\n",
            "_________________________________________________________________\n",
            "Layer (type)                 Output Shape              Param #   \n",
            "=================================================================\n",
            "dense_10 (Dense)             (None, 32)                608       \n",
            "_________________________________________________________________\n",
            "dense_11 (Dense)             (None, 512)               16896     \n",
            "_________________________________________________________________\n",
            "batch_normalization_6 (Batch (None, 512)               2048      \n",
            "_________________________________________________________________\n",
            "dropout_4 (Dropout)          (None, 512)               0         \n",
            "_________________________________________________________________\n",
            "dense_12 (Dense)             (None, 128)               65664     \n",
            "_________________________________________________________________\n",
            "batch_normalization_7 (Batch (None, 128)               512       \n",
            "_________________________________________________________________\n",
            "dropout_5 (Dropout)          (None, 128)               0         \n",
            "_________________________________________________________________\n",
            "dense_13 (Dense)             (None, 64)                8256      \n",
            "_________________________________________________________________\n",
            "dense_14 (Dense)             (None, 1)                 65        \n",
            "=================================================================\n",
            "Total params: 94,049\n",
            "Trainable params: 92,769\n",
            "Non-trainable params: 1,280\n",
            "_________________________________________________________________\n"
          ]
        }
      ]
    },
    {
      "cell_type": "markdown",
      "metadata": {
        "id": "DLAlqQhgCVxe"
      },
      "source": [
        "## ***Before moving further, we defined an early stopping callback***"
      ]
    },
    {
      "cell_type": "code",
      "metadata": {
        "id": "96iydpVCCS9g"
      },
      "source": [
        "# This callback will stop the training when there is no improvement in the validation loss for 5 consecutive epochs.  \n",
        "es = EarlyStopping(\n",
        "    monitor='val_accuracy', \n",
        "    mode='max',\n",
        "    patience=5,\n",
        "    restore_best_weights=True\n",
        ")"
      ],
      "execution_count": null,
      "outputs": []
    },
    {
      "cell_type": "markdown",
      "metadata": {
        "id": "C25SJ0fVKjCO"
      },
      "source": [
        "## ***We used binary crosentropy to calculate the loss at each epoch of training and Adam optimizer***"
      ]
    },
    {
      "cell_type": "code",
      "metadata": {
        "id": "39CLTk8EJ-3x"
      },
      "source": [
        "model.compile(loss='binary_crossentropy', \n",
        "              optimizer='Adam', \n",
        "              metrics=['accuracy'])"
      ],
      "execution_count": null,
      "outputs": []
    },
    {
      "cell_type": "markdown",
      "metadata": {
        "id": "Cings3_pHkiY"
      },
      "source": [
        "## ***We trained our model***"
      ]
    },
    {
      "cell_type": "code",
      "metadata": {
        "colab": {
          "base_uri": "https://localhost:8080/"
        },
        "id": "y8y-c7Tc2d99",
        "outputId": "53a82db8-7758-4f0d-bf28-b791c1dcd2e5"
      },
      "source": [
        "model.fit(X_train, \n",
        "          y_train, \n",
        "          epochs=30,\n",
        "          batch_size=250, \n",
        "          verbose=1, \n",
        "          validation_split=0.2,\n",
        "          callbacks=[es])"
      ],
      "execution_count": null,
      "outputs": [
        {
          "output_type": "stream",
          "name": "stdout",
          "text": [
            "Epoch 1/30\n",
            "266/266 [==============================] - 5s 15ms/step - loss: 0.3439 - accuracy: 0.8260 - val_loss: 0.4333 - val_accuracy: 0.7431\n",
            "Epoch 2/30\n",
            "266/266 [==============================] - 4s 14ms/step - loss: 0.1689 - accuracy: 0.9254 - val_loss: 0.2414 - val_accuracy: 0.8737\n",
            "Epoch 3/30\n",
            "266/266 [==============================] - 4s 13ms/step - loss: 0.1447 - accuracy: 0.9379 - val_loss: 0.1210 - val_accuracy: 0.9488\n",
            "Epoch 4/30\n",
            "266/266 [==============================] - 4s 14ms/step - loss: 0.1319 - accuracy: 0.9435 - val_loss: 0.1272 - val_accuracy: 0.9481\n",
            "Epoch 5/30\n",
            "266/266 [==============================] - 4s 15ms/step - loss: 0.1231 - accuracy: 0.9475 - val_loss: 0.1208 - val_accuracy: 0.9427\n",
            "Epoch 6/30\n",
            "266/266 [==============================] - 4s 14ms/step - loss: 0.1191 - accuracy: 0.9499 - val_loss: 0.0971 - val_accuracy: 0.9586\n",
            "Epoch 7/30\n",
            "266/266 [==============================] - 4s 14ms/step - loss: 0.1158 - accuracy: 0.9516 - val_loss: 0.1023 - val_accuracy: 0.9568\n",
            "Epoch 8/30\n",
            "266/266 [==============================] - 3s 12ms/step - loss: 0.1075 - accuracy: 0.9546 - val_loss: 0.0904 - val_accuracy: 0.9614\n",
            "Epoch 9/30\n",
            "266/266 [==============================] - 4s 14ms/step - loss: 0.1034 - accuracy: 0.9565 - val_loss: 0.0987 - val_accuracy: 0.9537\n",
            "Epoch 10/30\n",
            "266/266 [==============================] - 3s 13ms/step - loss: 0.0975 - accuracy: 0.9589 - val_loss: 0.0779 - val_accuracy: 0.9646\n",
            "Epoch 11/30\n",
            "266/266 [==============================] - 4s 14ms/step - loss: 0.0907 - accuracy: 0.9618 - val_loss: 0.1002 - val_accuracy: 0.9576\n",
            "Epoch 12/30\n",
            "266/266 [==============================] - 4s 14ms/step - loss: 0.0859 - accuracy: 0.9619 - val_loss: 0.1007 - val_accuracy: 0.9538\n",
            "Epoch 13/30\n",
            "266/266 [==============================] - 4s 14ms/step - loss: 0.0820 - accuracy: 0.9645 - val_loss: 0.0622 - val_accuracy: 0.9722\n",
            "Epoch 14/30\n",
            "266/266 [==============================] - 4s 13ms/step - loss: 0.0758 - accuracy: 0.9670 - val_loss: 0.0567 - val_accuracy: 0.9737\n",
            "Epoch 15/30\n",
            "266/266 [==============================] - 3s 13ms/step - loss: 0.0745 - accuracy: 0.9681 - val_loss: 0.0833 - val_accuracy: 0.9653\n",
            "Epoch 16/30\n",
            "266/266 [==============================] - 4s 14ms/step - loss: 0.0716 - accuracy: 0.9695 - val_loss: 0.0875 - val_accuracy: 0.9621\n",
            "Epoch 17/30\n",
            "266/266 [==============================] - 4s 14ms/step - loss: 0.0716 - accuracy: 0.9696 - val_loss: 0.0505 - val_accuracy: 0.9795\n",
            "Epoch 18/30\n",
            "266/266 [==============================] - 4s 15ms/step - loss: 0.0674 - accuracy: 0.9709 - val_loss: 0.0511 - val_accuracy: 0.9757\n",
            "Epoch 19/30\n",
            "266/266 [==============================] - 4s 14ms/step - loss: 0.0651 - accuracy: 0.9726 - val_loss: 0.0563 - val_accuracy: 0.9757\n",
            "Epoch 20/30\n",
            "266/266 [==============================] - 4s 14ms/step - loss: 0.0644 - accuracy: 0.9730 - val_loss: 0.0530 - val_accuracy: 0.9759\n",
            "Epoch 21/30\n",
            "266/266 [==============================] - 4s 14ms/step - loss: 0.0624 - accuracy: 0.9738 - val_loss: 0.0470 - val_accuracy: 0.9814\n",
            "Epoch 22/30\n",
            "266/266 [==============================] - 4s 15ms/step - loss: 0.0607 - accuracy: 0.9746 - val_loss: 0.0537 - val_accuracy: 0.9783\n",
            "Epoch 23/30\n",
            "266/266 [==============================] - 4s 15ms/step - loss: 0.0602 - accuracy: 0.9755 - val_loss: 0.0442 - val_accuracy: 0.9817\n",
            "Epoch 24/30\n",
            "266/266 [==============================] - 3s 13ms/step - loss: 0.0585 - accuracy: 0.9748 - val_loss: 0.0402 - val_accuracy: 0.9836\n",
            "Epoch 25/30\n",
            "266/266 [==============================] - 3s 13ms/step - loss: 0.0569 - accuracy: 0.9756 - val_loss: 0.0445 - val_accuracy: 0.9806\n",
            "Epoch 26/30\n",
            "266/266 [==============================] - 4s 14ms/step - loss: 0.0549 - accuracy: 0.9770 - val_loss: 0.0441 - val_accuracy: 0.9819\n",
            "Epoch 27/30\n",
            "266/266 [==============================] - 4s 14ms/step - loss: 0.0527 - accuracy: 0.9780 - val_loss: 0.0445 - val_accuracy: 0.9801\n",
            "Epoch 28/30\n",
            "266/266 [==============================] - 3s 13ms/step - loss: 0.0544 - accuracy: 0.9770 - val_loss: 0.0947 - val_accuracy: 0.9604\n",
            "Epoch 29/30\n",
            "266/266 [==============================] - 4s 14ms/step - loss: 0.0569 - accuracy: 0.9764 - val_loss: 0.0682 - val_accuracy: 0.9674\n"
          ]
        },
        {
          "output_type": "execute_result",
          "data": {
            "text/plain": [
              "<keras.callbacks.History at 0x7fe0276a2b90>"
            ]
          },
          "metadata": {},
          "execution_count": 49
        }
      ]
    },
    {
      "cell_type": "code",
      "metadata": {
        "id": "b9UZy78yEK_U"
      },
      "source": [
        "history_dict = model.history.history"
      ],
      "execution_count": null,
      "outputs": []
    },
    {
      "cell_type": "markdown",
      "metadata": {
        "id": "gutqv5GsKG0W"
      },
      "source": [
        "## ***Using the model history, we plotted the loss and the accuracy of both training and validation sets***"
      ]
    },
    {
      "cell_type": "code",
      "metadata": {
        "id": "u0R9WAp63esX",
        "colab": {
          "base_uri": "https://localhost:8080/",
          "height": 513
        },
        "outputId": "b24c5f99-ae15-43a5-f444-fc16071fe351"
      },
      "source": [
        "# loss\n",
        "loss_values = history_dict['loss']\n",
        "val_loss_values = history_dict['val_loss']\n",
        "\n",
        "epochs = range(1, len(loss_values) + 1) \n",
        "\n",
        "# plot\n",
        "plt.figure(figsize=(12, 8))\n",
        "plt.plot(epochs, loss_values, 'blue',label='Training loss')\n",
        "plt.plot(epochs, val_loss_values, 'green', label='Validation loss')\n",
        "plt.title('Training and validation loss')\n",
        "plt.xlabel('Epochs')\n",
        "plt.ylabel('Loss')\n",
        "plt.legend()\n",
        "plt.show()"
      ],
      "execution_count": null,
      "outputs": [
        {
          "output_type": "display_data",
          "data": {
            "image/png": "[encoded data removed]",
            "text/plain": [
              "<Figure size 864x576 with 1 Axes>"
            ]
          },
          "metadata": {
            "needs_background": "light"
          }
        }
      ]
    },
    {
      "cell_type": "code",
      "metadata": {
        "id": "c26VWaqPFfQ7",
        "colab": {
          "base_uri": "https://localhost:8080/",
          "height": 513
        },
        "outputId": "9f827bef-42e3-4c8c-dd68-c441b52899b4"
      },
      "source": [
        "# accuracy\n",
        "acc = history_dict['accuracy']\n",
        "val_acc = history_dict['val_accuracy']\n",
        "\n",
        "# range of X (no. of epochs)\n",
        "epochs = range(1, len(acc) + 1)\n",
        "\n",
        "plt.figure(figsize=(12, 8))\n",
        "plt.plot(epochs, acc, 'blue',label='Training accuracy')\n",
        "# orange is for \"orange\"\n",
        "plt.plot(epochs, val_acc, 'green', label='Validation accuracy')\n",
        "plt.title('Training and validation accuracy')\n",
        "plt.xlabel('Epochs')\n",
        "plt.ylabel('Accuracy')\n",
        "plt.legend()\n",
        "plt.show()"
      ],
      "execution_count": null,
      "outputs": [
        {
          "output_type": "display_data",
          "data": {
            "image/png": "[encoded data removed]",
            "text/plain": [
              "<Figure size 864x576 with 1 Axes>"
            ]
          },
          "metadata": {
            "needs_background": "light"
          }
        }
      ]
    },
    {
      "cell_type": "markdown",
      "metadata": {
        "id": "6zGgiv6OJ86t"
      },
      "source": [
        "## ***Next, we evaluated the test set accuracy***"
      ]
    },
    {
      "cell_type": "code",
      "metadata": {
        "id": "iqpFehaPEsDm",
        "colab": {
          "base_uri": "https://localhost:8080/"
        },
        "outputId": "e655a249-5f39-409b-cae5-71039394d575"
      },
      "source": [
        "results = model.evaluate(X_test, y_test, batch_size=250)\n",
        "print(\"Test set accuracy = {} %\".format( results[1]*100))"
      ],
      "execution_count": null,
      "outputs": [
        {
          "output_type": "stream",
          "name": "stdout",
          "text": [
            "84/84 [==============================] - 0s 3ms/step - loss: 0.0400 - accuracy: 0.9839\n",
            "Test set accuracy = 98.38694334030151 %\n"
          ]
        }
      ]
    },
    {
      "cell_type": "markdown",
      "metadata": {
        "id": "gpQDITnpJy7X"
      },
      "source": [
        "## ***finally, we looked at the confusion matrix***"
      ]
    },
    {
      "cell_type": "code",
      "metadata": {
        "id": "fdm2im9sFFd4",
        "colab": {
          "base_uri": "https://localhost:8080/"
        },
        "outputId": "0e952b93-1c90-48ab-8fc4-911662ee9074"
      },
      "source": [
        "from sklearn.metrics import confusion_matrix\n",
        "from sklearn.metrics import classification_report\n",
        "\n",
        "\n",
        "preds = np.round(model.predict(X_test),0)\n",
        "\n",
        "print(confusion_matrix(y_test, preds)) "
      ],
      "execution_count": null,
      "outputs": [
        {
          "output_type": "stream",
          "name": "stdout",
          "text": [
            "[[12379   234]\n",
            " [  101  8054]]\n"
          ]
        }
      ]
    }
  ]
}